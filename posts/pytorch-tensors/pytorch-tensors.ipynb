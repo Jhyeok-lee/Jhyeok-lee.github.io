{
 "cells": [
  {
   "cell_type": "raw",
   "id": "916344f0",
   "metadata": {},
   "source": [
    "---\n",
    "title: Pytorch Tensors\n",
    "date: 2023-03-05\n",
    "format:\n",
    "  html:\n",
    "    code-fold: false\n",
    "jupyter: python3\n",
    "categories:\n",
    "  - pytorch\n",
    "  - pytorch-tutorial\n",
    "  - pytorch-tensor\n",
    "---"
   ]
  },
  {
   "cell_type": "markdown",
   "id": "15bfa0cc",
   "metadata": {},
   "source": [
    "출처 : [Pytorch Tensors](https://pytorch.org/tutorials/beginner/basics/tensorqs_tutorial.html)  \n",
    "  \n",
    "Tensor는 배열과 행렬과 비슷한 특별한 자료구조이다. PyTorch에서 모델의 input, output과 parameter를 인코딩하는데 tensor를 사용한다.  \n",
    "  \n",
    "Tensor는 Numpy의 ndarrays와 비슷하지만, tensor는 GPU 가속이 가능하다. 또 tensor는 자동 미분(automatic differentiation)에 최적화되어있다."
   ]
  },
  {
   "cell_type": "code",
   "execution_count": 1,
   "id": "2195157d",
   "metadata": {},
   "outputs": [],
   "source": [
    "import torch\n",
    "import numpy as np"
   ]
  },
  {
   "cell_type": "markdown",
   "id": "dabc7416",
   "metadata": {},
   "source": [
    "## Initializing a Tensor\n",
    "Tensor는 다양한 방법으로 초기화할 수 있다.\n",
    "### Directly from data\n",
    "Data로 부터 바로 tensor를 만들 수 있다. 여기서 데이터 타입은 자동으로 추론된다."
   ]
  },
  {
   "cell_type": "code",
   "execution_count": 2,
   "id": "61f42ac4",
   "metadata": {},
   "outputs": [],
   "source": [
    "data = [[1, 2],[3, 4]]\n",
    "x_data = torch.tensor(data)"
   ]
  },
  {
   "cell_type": "markdown",
   "id": "2d426432",
   "metadata": {},
   "source": [
    "### From a NumPy array\n",
    "NumPy array로 부터 tensor를 만들 수 있다. (반대 방향도 가능)"
   ]
  },
  {
   "cell_type": "code",
   "execution_count": 3,
   "id": "c1dac22d",
   "metadata": {},
   "outputs": [],
   "source": [
    "np_array = np.array(data)\n",
    "x_np = torch.from_numpy(np_array)"
   ]
  },
  {
   "cell_type": "markdown",
   "id": "15fd1784",
   "metadata": {},
   "source": [
    "### From another tensor:\n",
    "다른 tensor의 속성(shape, datatype)으로 부터 새 tensor를 만들 수 있다."
   ]
  },
  {
   "cell_type": "code",
   "execution_count": 4,
   "id": "628f1835",
   "metadata": {},
   "outputs": [
    {
     "name": "stdout",
     "output_type": "stream",
     "text": [
      "Ones Tensor: \n",
      " tensor([[1, 1],\n",
      "        [1, 1]]) \n",
      "\n",
      "Random Tensor: \n",
      " tensor([[0.3985, 0.1358],\n",
      "        [0.7151, 0.1586]]) \n",
      "\n"
     ]
    }
   ],
   "source": [
    "x_ones = torch.ones_like(x_data) # retains the properties of x_data\n",
    "print(f\"Ones Tensor: \\n {x_ones} \\n\")\n",
    "\n",
    "x_rand = torch.rand_like(x_data, dtype=torch.float) # overrides the datatype of x_data\n",
    "print(f\"Random Tensor: \\n {x_rand} \\n\")"
   ]
  },
  {
   "cell_type": "markdown",
   "id": "7d31a9b8",
   "metadata": {},
   "source": [
    "### With random or constant values:\n",
    "`shape`를 지정해서 tensor를 만들 수 있다."
   ]
  },
  {
   "cell_type": "code",
   "execution_count": 5,
   "id": "a0f4d72b",
   "metadata": {},
   "outputs": [
    {
     "name": "stdout",
     "output_type": "stream",
     "text": [
      "Random Tensor: \n",
      " tensor([[0.9729, 0.5650, 0.1026],\n",
      "        [0.8679, 0.1286, 0.8256]]) \n",
      "\n",
      "Ones Tensor: \n",
      " tensor([[1., 1., 1.],\n",
      "        [1., 1., 1.]]) \n",
      "\n",
      "Zeros Tensor: \n",
      " tensor([[0., 0., 0.],\n",
      "        [0., 0., 0.]])\n"
     ]
    }
   ],
   "source": [
    "shape = (2,3,)\n",
    "rand_tensor = torch.rand(shape)\n",
    "ones_tensor = torch.ones(shape)\n",
    "zeros_tensor = torch.zeros(shape)\n",
    "\n",
    "print(f\"Random Tensor: \\n {rand_tensor} \\n\")\n",
    "print(f\"Ones Tensor: \\n {ones_tensor} \\n\")\n",
    "print(f\"Zeros Tensor: \\n {zeros_tensor}\")"
   ]
  },
  {
   "cell_type": "markdown",
   "id": "f795fa0d",
   "metadata": {},
   "source": [
    "## Attributes of a Tensor\n",
    "Tensor 속성으로 shape, datatype, 그리고 어느 device에 저장되어있는 지가 있다."
   ]
  },
  {
   "cell_type": "code",
   "execution_count": 6,
   "id": "96b375e5",
   "metadata": {},
   "outputs": [
    {
     "name": "stdout",
     "output_type": "stream",
     "text": [
      "Shape of tensor: torch.Size([3, 4])\n",
      "Datatype of tensor: torch.float32\n",
      "Device tensor is stored on: cpu\n"
     ]
    }
   ],
   "source": [
    "tensor = torch.rand(3,4)\n",
    "\n",
    "print(f\"Shape of tensor: {tensor.shape}\")\n",
    "print(f\"Datatype of tensor: {tensor.dtype}\")\n",
    "print(f\"Device tensor is stored on: {tensor.device}\")"
   ]
  },
  {
   "cell_type": "markdown",
   "id": "14a9c8d1",
   "metadata": {},
   "source": [
    "## Operations on Tensors\n",
    "Tensor의 연산으로 산술(arithmetic), 선형대수, 행렬 조작(transposing, indexing, slicing), 샘플링 등 100개가 넘는 연산이 있다.  \n",
    "더 자세한 건 [여기](https://pytorch.org/docs/stable/torch.html) 참고  \n",
    "  \n",
    "각 연산은 GPU에서 실행할 수 있다. 기본값으로 tensor는 CPU에서 생성된다. GPU를 사용하려면 명시적으로 `.to` 메소드를 사용해 tensor를 GPU로 이동시켜야 한다(GPU를 사용할 수 있는 지 체크한 이후에). 거대한 tensor를 devices 간에 복사하는 건 큰 비용이 드는 것을 명심해야한다."
   ]
  },
  {
   "cell_type": "code",
   "execution_count": 7,
   "id": "630443e5",
   "metadata": {},
   "outputs": [],
   "source": [
    "# We move our tensor to the GPU if available\n",
    "if torch.cuda.is_available():\n",
    "    tensor = tensor.to(\"cuda\")"
   ]
  },
  {
   "cell_type": "markdown",
   "id": "6a94f501",
   "metadata": {},
   "source": [
    "몇몇 연산을 살펴보는데, NumPy API에 친숙하다면 Tensor API는 사용하기 쉬울 것이다.\n",
    "### Standard numpy-like indexing and slicing:"
   ]
  },
  {
   "cell_type": "code",
   "execution_count": 8,
   "id": "50809c56",
   "metadata": {},
   "outputs": [
    {
     "name": "stdout",
     "output_type": "stream",
     "text": [
      "First row: tensor([1., 1., 1., 1.])\n",
      "First column: tensor([1., 1., 1., 1.])\n",
      "Last column: tensor([1., 1., 1., 1.])\n",
      "tensor([[1., 0., 1., 1.],\n",
      "        [1., 0., 1., 1.],\n",
      "        [1., 0., 1., 1.],\n",
      "        [1., 0., 1., 1.]])\n"
     ]
    }
   ],
   "source": [
    "tensor = torch.ones(4, 4)\n",
    "print(f\"First row: {tensor[0]}\")\n",
    "print(f\"First column: {tensor[:, 0]}\")\n",
    "print(f\"Last column: {tensor[..., -1]}\")\n",
    "tensor[:,1] = 0\n",
    "print(tensor)"
   ]
  },
  {
   "cell_type": "markdown",
   "id": "126c13c7",
   "metadata": {},
   "source": [
    "### Joining tensors\n",
    "`torch.cat`을 사용하면 tensor들의 시퀀스를 합칠(concatenate) 수 있다. [torch.stack](https://pytorch.org/docs/stable/generated/torch.stack.html)은 `torch.cat`과 다른 합치는 연산이다."
   ]
  },
  {
   "cell_type": "code",
   "execution_count": 9,
   "id": "20c00d83",
   "metadata": {},
   "outputs": [
    {
     "name": "stdout",
     "output_type": "stream",
     "text": [
      "tensor([[1., 0., 1., 1., 1., 0., 1., 1., 1., 0., 1., 1.],\n",
      "        [1., 0., 1., 1., 1., 0., 1., 1., 1., 0., 1., 1.],\n",
      "        [1., 0., 1., 1., 1., 0., 1., 1., 1., 0., 1., 1.],\n",
      "        [1., 0., 1., 1., 1., 0., 1., 1., 1., 0., 1., 1.]])\n"
     ]
    }
   ],
   "source": [
    "t1 = torch.cat([tensor, tensor, tensor], dim=1)\n",
    "print(t1)"
   ]
  },
  {
   "cell_type": "markdown",
   "id": "40e7b2c6",
   "metadata": {},
   "source": [
    "### Arithmetic operations"
   ]
  },
  {
   "cell_type": "code",
   "execution_count": 10,
   "id": "32157ec4",
   "metadata": {},
   "outputs": [
    {
     "data": {
      "text/plain": [
       "tensor([[1., 0., 1., 1.],\n",
       "        [1., 0., 1., 1.],\n",
       "        [1., 0., 1., 1.],\n",
       "        [1., 0., 1., 1.]])"
      ]
     },
     "execution_count": 10,
     "metadata": {},
     "output_type": "execute_result"
    }
   ],
   "source": [
    "# This computes the matrix multiplication between two tensors.\n",
    "# y1, y2, y3 will have the same value\n",
    "# ``tensor.T`` returns the transpose of a tensor\n",
    "y1 = tensor @ tensor.T\n",
    "y2 = tensor.matmul(tensor.T)\n",
    "\n",
    "y3 = torch.rand_like(y1)\n",
    "torch.matmul(tensor, tensor.T, out=y3)\n",
    "\n",
    "\n",
    "# This computes the element-wise product. z1, z2, z3 will have the same value\n",
    "z1 = tensor * tensor\n",
    "z2 = tensor.mul(tensor)\n",
    "\n",
    "z3 = torch.rand_like(tensor)\n",
    "torch.mul(tensor, tensor, out=z3)"
   ]
  },
  {
   "cell_type": "markdown",
   "id": "e161d2be",
   "metadata": {},
   "source": [
    "### Single-element tensors\n",
    "만약에 한 개의 원소를 가진 tensor가 있다면, 예를 들어 모든 값들을 집계해서 하나의 값을 가진 tensor를 만든다면, `item()`을 사용해서 Python 값(variable)로 변환할 수 있다."
   ]
  },
  {
   "cell_type": "code",
   "execution_count": 11,
   "id": "7ea6e90c",
   "metadata": {},
   "outputs": [
    {
     "name": "stdout",
     "output_type": "stream",
     "text": [
      "12.0 <class 'float'>\n"
     ]
    }
   ],
   "source": [
    "agg = tensor.sum()\n",
    "agg_item = agg.item()\n",
    "print(agg_item, type(agg_item))"
   ]
  },
  {
   "cell_type": "markdown",
   "id": "6521eadb",
   "metadata": {},
   "source": [
    "### In-place operations\n",
    "연산의 결과로 피연산자(operand)에 저장되는 것을 in-place라 한다. inplace 연산은 `_` suffix로 나타낸다. 예: `x.copey_(y)`, `x.t_()` 는 x를 바꾼다. In-place 연산은 메모리를 아끼지만, 미분을 계산하는데 문제가 생길 수 있다. 그래서 사용이 권장되지 않는다."
   ]
  },
  {
   "cell_type": "code",
   "execution_count": 12,
   "id": "f8e6413a",
   "metadata": {},
   "outputs": [
    {
     "name": "stdout",
     "output_type": "stream",
     "text": [
      "tensor([[1., 0., 1., 1.],\n",
      "        [1., 0., 1., 1.],\n",
      "        [1., 0., 1., 1.],\n",
      "        [1., 0., 1., 1.]]) \n",
      "\n",
      "tensor([[6., 5., 6., 6.],\n",
      "        [6., 5., 6., 6.],\n",
      "        [6., 5., 6., 6.],\n",
      "        [6., 5., 6., 6.]])\n"
     ]
    }
   ],
   "source": [
    "print(f\"{tensor} \\n\")\n",
    "tensor.add_(5)\n",
    "print(tensor)"
   ]
  },
  {
   "cell_type": "markdown",
   "id": "4188e5b9",
   "metadata": {},
   "source": [
    "## Bridge with Numpy\n",
    "CPU에 있는 tensor와 Numpy array는 메모리 위치를 공유하고 있어서, 하나를 바꾼다면 다른 하나도 바뀐다."
   ]
  },
  {
   "cell_type": "code",
   "execution_count": 13,
   "id": "cdbf17a5",
   "metadata": {},
   "outputs": [
    {
     "name": "stdout",
     "output_type": "stream",
     "text": [
      "t: tensor([1., 1., 1., 1., 1.])\n",
      "n: [1. 1. 1. 1. 1.]\n"
     ]
    }
   ],
   "source": [
    "t = torch.ones(5)\n",
    "print(f\"t: {t}\")\n",
    "n = t.numpy()\n",
    "print(f\"n: {n}\")"
   ]
  },
  {
   "cell_type": "code",
   "execution_count": 14,
   "id": "f99b3c4f",
   "metadata": {},
   "outputs": [
    {
     "name": "stdout",
     "output_type": "stream",
     "text": [
      "t: tensor([2., 2., 2., 2., 2.])\n",
      "n: [2. 2. 2. 2. 2.]\n"
     ]
    }
   ],
   "source": [
    "t.add_(1)\n",
    "print(f\"t: {t}\")\n",
    "print(f\"n: {n}\")"
   ]
  },
  {
   "cell_type": "markdown",
   "id": "42143932",
   "metadata": {},
   "source": [
    "### Numpy array to Tensor"
   ]
  },
  {
   "cell_type": "code",
   "execution_count": 15,
   "id": "e45ba76b",
   "metadata": {},
   "outputs": [
    {
     "name": "stdout",
     "output_type": "stream",
     "text": [
      "t: tensor([1., 1., 1., 1., 1.], dtype=torch.float64)\n",
      "n: [1. 1. 1. 1. 1.]\n"
     ]
    }
   ],
   "source": [
    "n = np.ones(5)\n",
    "t = torch.from_numpy(n)\n",
    "print(f\"t: {t}\")\n",
    "print(f\"n: {n}\")"
   ]
  },
  {
   "cell_type": "code",
   "execution_count": 16,
   "id": "db2f1875",
   "metadata": {},
   "outputs": [
    {
     "name": "stdout",
     "output_type": "stream",
     "text": [
      "t: tensor([2., 2., 2., 2., 2.], dtype=torch.float64)\n",
      "n: [2. 2. 2. 2. 2.]\n"
     ]
    }
   ],
   "source": [
    "np.add(n, 1, out=n)\n",
    "print(f\"t: {t}\")\n",
    "print(f\"n: {n}\")"
   ]
  }
 ],
 "metadata": {
  "kernelspec": {
   "display_name": "Python 3 (ipykernel)",
   "language": "python",
   "name": "python3"
  },
  "language_info": {
   "codemirror_mode": {
    "name": "ipython",
    "version": 3
   },
   "file_extension": ".py",
   "mimetype": "text/x-python",
   "name": "python",
   "nbconvert_exporter": "python",
   "pygments_lexer": "ipython3",
   "version": "3.9.12"
  }
 },
 "nbformat": 4,
 "nbformat_minor": 5
}
